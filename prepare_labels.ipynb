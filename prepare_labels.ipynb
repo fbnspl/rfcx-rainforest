{
 "cells": [
  {
   "cell_type": "code",
   "execution_count": 34,
   "metadata": {},
   "outputs": [],
   "source": [
    "import numpy as np\n",
    "import pandas as pd\n",
    "import tqdm\n",
    "import glob"
   ]
  },
  {
   "cell_type": "markdown",
   "metadata": {},
   "source": [
    "### Paths"
   ]
  },
  {
   "cell_type": "code",
   "execution_count": 35,
   "metadata": {},
   "outputs": [],
   "source": [
    "data_path = '/Users/fabianseipel/aic/data/rfcx-species-audio-detection/'"
   ]
  },
  {
   "cell_type": "markdown",
   "metadata": {},
   "source": [
    "### Convert train_tp csv to mulit-label one-hot"
   ]
  },
  {
   "cell_type": "code",
   "execution_count": 36,
   "metadata": {},
   "outputs": [],
   "source": [
    "# both files\n",
    "for file in ['train_tp', 'train_fp']:\n",
    "\n",
    "    # load train csv\n",
    "    df_gt = pd.read_csv(data_path + '%s.csv' % (file))\n",
    "\n",
    "    # get all unique ids\n",
    "    rec_ids = sorted(list(set(list(df_gt['recording_id']))))\n",
    "    spec_ids = sorted(list(set(list(df_gt['species_id']))))\n",
    "\n",
    "    # make one-hot dtaframe\n",
    "    df_oh = pd.DataFrame(index=rec_ids,columns=spec_ids)\n",
    "    df_oh = df_oh.fillna(0)\n",
    "\n",
    "    # transfer info from csv to one-hot dataframe\n",
    "    for index, row in df_gt.iterrows():\n",
    "        rec_id = row['recording_id']\n",
    "        spec_id = row['species_id']\n",
    "        df_oh.at[rec_id, spec_id] = 1\n",
    "\n",
    "    # save one hot csv\n",
    "    df_oh.to_csv(data_path + '%s_onehot.csv' % (file))"
   ]
  },
  {
   "cell_type": "markdown",
   "metadata": {},
   "source": [
    "---"
   ]
  },
  {
   "cell_type": "markdown",
   "metadata": {},
   "source": [
    "### Convert train_tp csv to mulit-label one-hot frame wise 1 second"
   ]
  },
  {
   "cell_type": "code",
   "execution_count": 37,
   "metadata": {},
   "outputs": [
    {
     "name": "stderr",
     "output_type": "stream",
     "text": [
      "100%|██████████| 1132/1132 [00:05<00:00, 210.78it/s]\n",
      "100%|██████████| 3958/3958 [00:19<00:00, 204.96it/s]\n"
     ]
    }
   ],
   "source": [
    "# both files\n",
    "for file in ['train_tp', 'train_fp']:\n",
    "\n",
    "    # load train csv\n",
    "    df_gt = pd.read_csv(data_path + '%s.csv' % (file))\n",
    "\n",
    "    # get all unique ids\n",
    "    rec_ids = sorted(list(set(list(df_gt['recording_id']))))\n",
    "    spec_ids = sorted(list(set(list(df_gt['species_id']))))\n",
    "\n",
    "    # make one-hot dtaframe\n",
    "    df_oh = pd.DataFrame(index=rec_ids,columns=spec_ids)\n",
    "    df_oh = df_oh.fillna(0)\n",
    "\n",
    "    for rec_id in tqdm.tqdm(rec_ids):\n",
    "        df_tmp = df_gt[df_gt['recording_id'] == rec_id]\n",
    "        df_tmp = df_tmp.round(1)\n",
    "        frame_gt = np.zeros((24, 60))    \n",
    "\n",
    "        for index, row in df_tmp.iterrows():\n",
    "            spec_id = row['species_id']\n",
    "            t_min = int(np.floor(row['t_min']))\n",
    "            t_max = int(np.ceil(row['t_max']))\n",
    "            frame_gt[spec_id, t_min:t_max] = 1\n",
    "\n",
    "        df_frame = pd.DataFrame(frame_gt)\n",
    "        df_frame.to_csv(data_path + '%s/%s.csv' % (file, rec_id))\n"
   ]
  },
  {
   "cell_type": "code",
   "execution_count": null,
   "metadata": {},
   "outputs": [],
   "source": []
  },
  {
   "cell_type": "code",
   "execution_count": null,
   "metadata": {},
   "outputs": [],
   "source": []
  }
 ],
 "metadata": {
  "kernelspec": {
   "display_name": "rainforest",
   "language": "python",
   "name": "rainforest"
  },
  "language_info": {
   "codemirror_mode": {
    "name": "ipython",
    "version": 3
   },
   "file_extension": ".py",
   "mimetype": "text/x-python",
   "name": "python",
   "nbconvert_exporter": "python",
   "pygments_lexer": "ipython3",
   "version": "3.7.8"
  }
 },
 "nbformat": 4,
 "nbformat_minor": 4
}
