{
 "cells": [
  {
   "cell_type": "markdown",
   "metadata": {},
   "source": [
    "### Save vggish embeddings"
   ]
  },
  {
   "cell_type": "code",
   "execution_count": 4,
   "metadata": {},
   "outputs": [],
   "source": [
    "import tensorflow as tf\n",
    "import tensorflow_hub as hub\n",
    "import tensorflow_io as tfio\n",
    "import numpy as np\n",
    "import glob\n",
    "import time\n",
    "import os\n",
    "import tqdm\n",
    "from pathlib import Path"
   ]
  },
  {
   "cell_type": "code",
   "execution_count": 11,
   "metadata": {},
   "outputs": [
    {
     "name": "stderr",
     "output_type": "stream",
     "text": [
      "  0%|          | 0/6719 [00:00<?, ?it/s]"
     ]
    },
    {
     "name": "stdout",
     "output_type": "stream",
     "text": [
      "(960000,)\n"
     ]
    },
    {
     "name": "stderr",
     "output_type": "stream",
     "text": [
      "  0%|          | 0/6719 [00:00<?, ?it/s]"
     ]
    },
    {
     "name": "stdout",
     "output_type": "stream",
     "text": [
      "(62, 128)\n"
     ]
    },
    {
     "name": "stderr",
     "output_type": "stream",
     "text": [
      "\n"
     ]
    }
   ],
   "source": [
    "# Load the models\n",
    "model_vggish = hub.load('https://tfhub.dev/google/vggish/1')\n",
    "\n",
    "def save_vggish_embeddings(f):\n",
    "    savepath = f.replace('rfcx-species-audio-detection', 'embeddings/vggish').replace('.flac', '.npy')\n",
    "    if not os.path.exists(savepath): \n",
    "        audio = tfio.audio.AudioIOTensor(f)\n",
    "        audio = tf.squeeze(audio[:], axis=[-1])\n",
    "        audio = tfio.audio.resample(audio, 48000, 16000)\n",
    "        print(audio.shape)\n",
    "\n",
    "        embeddings = model_vggish(audio.numpy())\n",
    "        print(embeddings.shape)\n",
    "        np.save(savepath, embeddings)\n",
    "        \n",
    "\n",
    "# script\n",
    "root_path = '/Users/fabianseipel/aic/git/rainforest-ensemble/' \n",
    "test_files = glob.glob(root_path + 'rfcx-species-audio-detection/test/*.flac')\n",
    "train_files = glob.glob(root_path + 'rfcx-species-audio-detection/train/*.flac')\n",
    "files = test_files + train_files\n",
    "\n",
    "# make folders\n",
    "os.makedirs(root_path + 'embeddings/vggish/', exist_ok=True)\n",
    "os.makedirs(root_path + 'embeddings/vggish/test', exist_ok=True)\n",
    "os.makedirs(root_path + 'embeddings/vggish/train', exist_ok=True)\n",
    "\n",
    "for f in tqdm.tqdm(files):\n",
    "    save_vggish_embeddings(f)\n",
    "    break"
   ]
  },
  {
   "cell_type": "code",
   "execution_count": 20,
   "metadata": {},
   "outputs": [],
   "source": [
    "!rm -rf embeddings/vggish/"
   ]
  },
  {
   "cell_type": "markdown",
   "metadata": {},
   "source": [
    "### Save openl3 embeddings"
   ]
  },
  {
   "cell_type": "code",
   "execution_count": null,
   "metadata": {},
   "outputs": [],
   "source": [
    "# Load the models\n",
    "model_openl3 = openl3.models.load_audio_embedding_model(input_repr=\"mel128\", content_type=\"env\", embedding_size=512)\n",
    "\n",
    "def save_openl3_embeddings(f):\n",
    "    savepath = f.replace('rfcx-species-audio-detection', 'embeddings/openl3').replace('.flac', '.npy')\n",
    "    if not os.path.exists(savepath): \n",
    "        audio = tfio.audio.AudioIOTensor(f)\n",
    "        audio = tf.squeeze(audio[:], axis=[-1])\n",
    "        embeddings, timestamps = openl3.get_audio_embedding(audio.numpy(), 48000, model=model_openl3)\n",
    "        np.save(savepath, embeddings)\n",
    "        \n",
    "# script\n",
    "test_files = glob.glob('rfcx-species-audio-detection/test/*.flac')\n",
    "train_files = glob.glob('rfcx-species-audio-detection/train/*.flac')\n",
    "files = test_files + train_files\n",
    "\n",
    "# make folders\n",
    "os.makedirs('embeddings/openl3/', exist_ok=True)\n",
    "os.makedirs('embeddings/openl3/test', exist_ok=True)\n",
    "os.makedirs('embeddings/openl3/train', exist_ok=True)\n",
    "\n",
    "for f in tqdm.tqdm(train_files):\n",
    "    save_openl3_embeddings(f)\n"
   ]
  },
  {
   "cell_type": "code",
   "execution_count": null,
   "metadata": {},
   "outputs": [],
   "source": []
  }
 ],
 "metadata": {
  "kernelspec": {
   "display_name": "rainforest",
   "language": "python",
   "name": "rainforest"
  },
  "language_info": {
   "codemirror_mode": {
    "name": "ipython",
    "version": 3
   },
   "file_extension": ".py",
   "mimetype": "text/x-python",
   "name": "python",
   "nbconvert_exporter": "python",
   "pygments_lexer": "ipython3",
   "version": "3.7.8"
  }
 },
 "nbformat": 4,
 "nbformat_minor": 4
}
