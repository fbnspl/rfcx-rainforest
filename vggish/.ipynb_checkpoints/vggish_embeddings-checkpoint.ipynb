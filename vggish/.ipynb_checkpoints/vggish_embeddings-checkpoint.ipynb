{
 "cells": [
  {
   "cell_type": "markdown",
   "metadata": {},
   "source": [
    "### Save vggish embeddings"
   ]
  },
  {
   "cell_type": "code",
   "execution_count": 4,
   "metadata": {},
   "outputs": [],
   "source": [
    "import tensorflow as tf\n",
    "import tensorflow_hub as hub\n",
    "import tensorflow_io as tfio\n",
    "import numpy as np\n",
    "import glob\n",
    "import time\n",
    "import os\n",
    "import tqdm\n",
    "from pathlib import Path"
   ]
  },
  {
   "cell_type": "code",
   "execution_count": null,
   "metadata": {},
   "outputs": [
    {
     "name": "stderr",
     "output_type": "stream",
     "text": [
      "  2%|▏         | 163/6719 [01:29<1:02:10,  1.76it/s]"
     ]
    }
   ],
   "source": [
    "# Load the models\n",
    "model_vggish = hub.load('https://tfhub.dev/google/vggish/1')\n",
    "\n",
    "def save_vggish_embeddings(f):\n",
    "    savepath = f.replace('rfcx-species-audio-detection', 'embeddings/vggish').replace('.flac', '.npy')\n",
    "    if not os.path.exists(savepath): \n",
    "        audio = tfio.audio.AudioIOTensor(f)\n",
    "        audio = tf.squeeze(audio[:], axis=[-1])\n",
    "        audio = tfio.audio.resample(audio, 48000, 16000)\n",
    "        embeddings = model_vggish(audio.numpy())\n",
    "        np.save(savepath, embeddings)\n",
    "        \n",
    "\n",
    "# script\n",
    "root_path = '/Users/fabianseipel/aic/git/rainforest-ensemble/' \n",
    "test_files = glob.glob(root_path + 'rfcx-species-audio-detection/test/*.flac')\n",
    "train_files = glob.glob(root_path + 'rfcx-species-audio-detection/train/*.flac')\n",
    "files = test_files + train_files\n",
    "\n",
    "# make folders\n",
    "os.makedirs(root_path + 'embeddings/vggish/', exist_ok=True)\n",
    "os.makedirs(root_path + 'embeddings/vggish/test', exist_ok=True)\n",
    "os.makedirs(root_path + 'embeddings/vggish/train', exist_ok=True)\n",
    "\n",
    "for f in tqdm.tqdm(files):\n",
    "    save_vggish_embeddings(f)\n"
   ]
  },
  {
   "cell_type": "code",
   "execution_count": 22,
   "metadata": {},
   "outputs": [],
   "source": [
    "!rm -rf embeddings/vggish/"
   ]
  },
  {
   "cell_type": "code",
   "execution_count": null,
   "metadata": {},
   "outputs": [],
   "source": []
  }
 ],
 "metadata": {
  "kernelspec": {
   "display_name": "rainforest",
   "language": "python",
   "name": "rainforest"
  },
  "language_info": {
   "codemirror_mode": {
    "name": "ipython",
    "version": 3
   },
   "file_extension": ".py",
   "mimetype": "text/x-python",
   "name": "python",
   "nbconvert_exporter": "python",
   "pygments_lexer": "ipython3",
   "version": "3.7.8"
  }
 },
 "nbformat": 4,
 "nbformat_minor": 4
}
